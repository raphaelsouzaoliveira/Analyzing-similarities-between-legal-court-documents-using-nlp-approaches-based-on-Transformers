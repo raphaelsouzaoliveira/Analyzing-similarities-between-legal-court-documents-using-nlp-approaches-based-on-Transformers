{
 "cells": [
  {
   "cell_type": "code",
   "execution_count": 7,
   "id": "acquired-handling",
   "metadata": {},
   "outputs": [
    {
     "name": "stdout",
     "output_type": "stream",
     "text": [
      "BERT\n",
      "(1, 35)\n",
      "(1, 35)\n",
      "BERT_FINE\n"
     ]
    },
    {
     "name": "stderr",
     "output_type": "stream",
     "text": [
      "c:\\Users\\TRT05\\AppData\\Local\\Programs\\Python\\Python310\\lib\\site-packages\\numpy\\core\\fromnumeric.py:2007: VisibleDeprecationWarning: Creating an ndarray from ragged nested sequences (which is a list-or-tuple of lists-or-tuples-or ndarrays with different lengths or shapes) is deprecated. If you meant to do this, you must specify 'dtype=object' when creating the ndarray.\n",
      "  result = asarray(a).shape\n",
      "c:\\Users\\TRT05\\AppData\\Local\\Programs\\Python\\Python310\\lib\\site-packages\\numpy\\core\\fromnumeric.py:2007: VisibleDeprecationWarning: Creating an ndarray from ragged nested sequences (which is a list-or-tuple of lists-or-tuples-or ndarrays with different lengths or shapes) is deprecated. If you meant to do this, you must specify 'dtype=object' when creating the ndarray.\n",
      "  result = asarray(a).shape\n"
     ]
    },
    {
     "name": "stdout",
     "output_type": "stream",
     "text": [
      "(2,)\n",
      "(2,)\n",
      "GPT2\n"
     ]
    },
    {
     "name": "stderr",
     "output_type": "stream",
     "text": [
      "c:\\Users\\TRT05\\AppData\\Local\\Programs\\Python\\Python310\\lib\\site-packages\\numpy\\core\\fromnumeric.py:2007: VisibleDeprecationWarning: Creating an ndarray from ragged nested sequences (which is a list-or-tuple of lists-or-tuples-or ndarrays with different lengths or shapes) is deprecated. If you meant to do this, you must specify 'dtype=object' when creating the ndarray.\n",
      "  result = asarray(a).shape\n",
      "c:\\Users\\TRT05\\AppData\\Local\\Programs\\Python\\Python310\\lib\\site-packages\\numpy\\core\\fromnumeric.py:2007: VisibleDeprecationWarning: Creating an ndarray from ragged nested sequences (which is a list-or-tuple of lists-or-tuples-or ndarrays with different lengths or shapes) is deprecated. If you meant to do this, you must specify 'dtype=object' when creating the ndarray.\n",
      "  result = asarray(a).shape\n"
     ]
    },
    {
     "name": "stdout",
     "output_type": "stream",
     "text": [
      "(3,)\n",
      "(3,)\n",
      "GPT2_FINE\n"
     ]
    },
    {
     "name": "stderr",
     "output_type": "stream",
     "text": [
      "c:\\Users\\TRT05\\AppData\\Local\\Programs\\Python\\Python310\\lib\\site-packages\\numpy\\core\\fromnumeric.py:2007: VisibleDeprecationWarning: Creating an ndarray from ragged nested sequences (which is a list-or-tuple of lists-or-tuples-or ndarrays with different lengths or shapes) is deprecated. If you meant to do this, you must specify 'dtype=object' when creating the ndarray.\n",
      "  result = asarray(a).shape\n",
      "c:\\Users\\TRT05\\AppData\\Local\\Programs\\Python\\Python310\\lib\\site-packages\\numpy\\core\\fromnumeric.py:2007: VisibleDeprecationWarning: Creating an ndarray from ragged nested sequences (which is a list-or-tuple of lists-or-tuples-or ndarrays with different lengths or shapes) is deprecated. If you meant to do this, you must specify 'dtype=object' when creating the ndarray.\n",
      "  result = asarray(a).shape\n"
     ]
    },
    {
     "name": "stdout",
     "output_type": "stream",
     "text": [
      "(4,)\n",
      "(4,)\n",
      "RoBERTa\n"
     ]
    },
    {
     "name": "stderr",
     "output_type": "stream",
     "text": [
      "c:\\Users\\TRT05\\AppData\\Local\\Programs\\Python\\Python310\\lib\\site-packages\\numpy\\core\\fromnumeric.py:2007: VisibleDeprecationWarning: Creating an ndarray from ragged nested sequences (which is a list-or-tuple of lists-or-tuples-or ndarrays with different lengths or shapes) is deprecated. If you meant to do this, you must specify 'dtype=object' when creating the ndarray.\n",
      "  result = asarray(a).shape\n",
      "c:\\Users\\TRT05\\AppData\\Local\\Programs\\Python\\Python310\\lib\\site-packages\\numpy\\core\\fromnumeric.py:2007: VisibleDeprecationWarning: Creating an ndarray from ragged nested sequences (which is a list-or-tuple of lists-or-tuples-or ndarrays with different lengths or shapes) is deprecated. If you meant to do this, you must specify 'dtype=object' when creating the ndarray.\n",
      "  result = asarray(a).shape\n"
     ]
    },
    {
     "name": "stdout",
     "output_type": "stream",
     "text": [
      "(5,)\n",
      "(5,)\n",
      "RoBERTa_FINE\n",
      "(6,)\n",
      "(6,)\n"
     ]
    },
    {
     "name": "stderr",
     "output_type": "stream",
     "text": [
      "c:\\Users\\TRT05\\AppData\\Local\\Programs\\Python\\Python310\\lib\\site-packages\\numpy\\core\\fromnumeric.py:2007: VisibleDeprecationWarning: Creating an ndarray from ragged nested sequences (which is a list-or-tuple of lists-or-tuples-or ndarrays with different lengths or shapes) is deprecated. If you meant to do this, you must specify 'dtype=object' when creating the ndarray.\n",
      "  result = asarray(a).shape\n",
      "c:\\Users\\TRT05\\AppData\\Local\\Programs\\Python\\Python310\\lib\\site-packages\\numpy\\core\\fromnumeric.py:2007: VisibleDeprecationWarning: Creating an ndarray from ragged nested sequences (which is a list-or-tuple of lists-or-tuples-or ndarrays with different lengths or shapes) is deprecated. If you meant to do this, you must specify 'dtype=object' when creating the ndarray.\n",
      "  result = asarray(a).shape\n"
     ]
    }
   ],
   "source": [
    "import pandas as pd\n",
    "import numpy as np\n",
    "\n",
    "techniques = {\"BERT\": \"BERT ptBR\",\n",
    "              \"BERT_FINE\": \"BERT Jud\",\n",
    "              \"GPT2\": \"GPT-2 ptBR\",\n",
    "              \"GPT2_FINE\": \"GPT-2 Jud\",\n",
    "              \"RoBERTa\": \"RoBERTa ptBR\",\n",
    "              \"RoBERTa_FINE\": \"RoBERTa Jud\"}\n",
    "\n",
    "path = 'data/' \n",
    "boxplot_data = []\n",
    "boxplot_data_group = []\n",
    "for type in techniques:\n",
    "    print(type)\n",
    "    path = 'data/' + type + '/'\n",
    "    df_result_group = pd.read_csv(path + 'consolidated_group.zip')\n",
    "\n",
    "    #df_result = pd.read_pickle(path + 'consolidated_data.pkl', compression='zip')\n",
    "    df_result = None\n",
    "    for i in range(10):\n",
    "        if i == 0:\n",
    "            df_result = pd.read_pickle(path + 'consolidated_data' + str(i) + '.pkl', compression='zip')\n",
    "        else:\n",
    "            df_result = pd.concat([df_result, pd.read_pickle(path + 'consolidated_data' + str(i) + '.pkl', compression='zip')])\n",
    "            \n",
    "    df_agg = df_result[['group_id', 'dist_cntr']].groupby('group_id').agg(count=('dist_cntr', 'count'), mean=('dist_cntr', 'mean')) \n",
    "    \n",
    "    if len(boxplot_data) == 0:        \n",
    "        boxplot_data = [df_agg['mean'].copy()]\n",
    "    else:\n",
    "        boxplot_data.append(df_agg['mean'].copy())\n",
    "    print(np.shape(boxplot_data))\n",
    "        \n",
    "    dfs = []\n",
    "    for nivel in reversed(np.unique(df_result_group.base_level.values)):\n",
    "        if(len(dfs) == 0):\n",
    "            df = df_result_group[df_result_group.base_level==nivel]        \n",
    "            dfs = [df.copy()]\n",
    "        else:\n",
    "            df = df_result_group[(df_result_group.base_level==nivel) & (~df_result_group.group_id.isin(df_result_group[df_result_group.base_level==nivel+1]['parent_group_id'].unique()))]\n",
    "            dfs.insert(0, df.copy())\n",
    "\n",
    "    df = pd.concat(dfs)\n",
    "    df = df[['group_id', 'mean']].drop_duplicates()\n",
    "    \n",
    "    if len(boxplot_data_group) == 0:        \n",
    "        boxplot_data_group = [df['mean'].copy()]\n",
    "    else:\n",
    "        boxplot_data_group.append(df['mean'].copy())\n",
    "    print(np.shape(boxplot_data_group))\n",
    "    "
   ]
  },
  {
   "cell_type": "code",
   "execution_count": 6,
   "id": "39297c01",
   "metadata": {},
   "outputs": [
    {
     "data": {
      "text/plain": [
       "['BERT\\nptBR',\n",
       " 'BERT\\nJud',\n",
       " 'GPT2\\nptBR',\n",
       " 'GPT2\\nJud',\n",
       " 'RoBERTa\\nptBR',\n",
       " 'RoBERTa\\nJud']"
      ]
     },
     "execution_count": 6,
     "metadata": {},
     "output_type": "execute_result"
    }
   ],
   "source": []
  },
  {
   "cell_type": "code",
   "execution_count": 11,
   "id": "utility-ending",
   "metadata": {},
   "outputs": [],
   "source": [
    "import matplotlib.pyplot as plt\n",
    "\n",
    "def plot_boxplot(data, name, techniques):\n",
    "    fig, ax1 = plt.subplots(figsize=(12, 6))\n",
    "    #fig.canvas.set_window_title('A Boxplot Example')\n",
    "    plt.subplots_adjust(left=0.075, right=0.95, top=0.9, bottom=0.25)\n",
    "\n",
    "    bp = plt.boxplot(data, notch=0, sym='+', vert=1, whis=1.5,                      \n",
    "                     labels=[value.replace(' ', '\\n') for value in list(techniques.values())], showmeans=True,\n",
    "                     meanprops=dict(marker='D', markeredgecolor='black',markerfacecolor='firebrick'))\n",
    "    plt.setp(bp['boxes'], color='black')\n",
    "    plt.setp(bp['whiskers'], color='black')\n",
    "    plt.setp(bp['fliers'], color='red', marker='+')\n",
    "\n",
    "    # Add a horizontal grid to the plot, but make it very light in color\n",
    "    # so we can use it for reading data values but not be distracting\n",
    "    ax1.yaxis.grid(True, linestyle='-', which='major', color='lightgrey',\n",
    "                   alpha=0.5)\n",
    "\n",
    "    # Hide these grid behind plot objects\n",
    "    ax1.set_axisbelow(True)\n",
    "    ax1.set_title('Comparison of Distributions', fontsize=18)\n",
    "    ax1.set_ylabel('Mean cosine similarity', fontsize=18)\n",
    "    ax1.tick_params(axis='x', labelsize=15)\n",
    "    ax1.tick_params(axis='y', labelsize=15)\n",
    "\n",
    "    from matplotlib.lines import Line2D\n",
    "    ax1.legend(handles=[Line2D([0], [0], marker='D', markeredgecolor='black', markerfacecolor='firebrick', label='Mean', markersize=10)], \n",
    "               loc='lower left', \n",
    "               #loc='lower right', \n",
    "               fontsize=20)\n",
    "\n",
    "    plt.show()\n",
    "    print(fig.dpi)\n",
    "    \n",
    "    fig.savefig(name + '.png', dpi=600)    "
   ]
  },
  {
   "cell_type": "code",
   "execution_count": 12,
   "id": "comfortable-serial",
   "metadata": {},
   "outputs": [
    {
     "data": {
      "image/png": "[encoded data removed]",
      "text/plain": [
       "<Figure size 864x432 with 1 Axes>"
      ]
     },
     "metadata": {
      "needs_background": "light"
     },
     "output_type": "display_data"
    },
    {
     "name": "stdout",
     "output_type": "stream",
     "text": [
      "72.0\n"
     ]
    }
   ],
   "source": [
    "plot_boxplot(boxplot_data, 'boxplot', techniques)"
   ]
  },
  {
   "cell_type": "code",
   "execution_count": 13,
   "id": "frank-indonesia",
   "metadata": {},
   "outputs": [
    {
     "data": {
      "image/png": "[encoded data removed]",
      "text/plain": [
       "<Figure size 864x432 with 1 Axes>"
      ]
     },
     "metadata": {
      "needs_background": "light"
     },
     "output_type": "display_data"
    },
    {
     "name": "stdout",
     "output_type": "stream",
     "text": [
      "72.0\n"
     ]
    }
   ],
   "source": [
    "plot_boxplot(boxplot_data_group, 'boxplot_group', techniques)"
   ]
  },
  {
   "cell_type": "code",
   "execution_count": 36,
   "id": "developmental-madison",
   "metadata": {},
   "outputs": [
    {
     "data": {
      "text/plain": [
       "count    34.000000\n",
       "mean      0.948189\n",
       "std       0.060858\n",
       "min       0.796032\n",
       "25%       0.924822\n",
       "50%       0.976267\n",
       "75%       0.992450\n",
       "max       0.999513\n",
       "Name: mean, dtype: float64"
      ]
     },
     "execution_count": 36,
     "metadata": {},
     "output_type": "execute_result"
    }
   ],
   "source": [
    "boxplot_data[2].describe()"
   ]
  }
 ],
 "metadata": {
  "kernelspec": {
   "display_name": "Python 3",
   "language": "python",
   "name": "python3"
  },
  "language_info": {
   "codemirror_mode": {
    "name": "ipython",
    "version": 3
   },
   "file_extension": ".py",
   "mimetype": "text/x-python",
   "name": "python",
   "nbconvert_exporter": "python",
   "pygments_lexer": "ipython3",
   "version": "3.10.4"
  },
  "vscode": {
   "interpreter": {
    "hash": "b5381656b9681dde9f6ac3afdc9264f721941942007b927395295ba8aa9adac7"
   }
  }
 },
 "nbformat": 4,
 "nbformat_minor": 5
}
